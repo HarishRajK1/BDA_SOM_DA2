{
 "cells": [
  {
   "cell_type": "code",
   "execution_count": 1,
   "metadata": {
    "colab": {
     "base_uri": "https://localhost:8080/"
    },
    "id": "6i4jOK8hOhQc",
    "outputId": "cdad866e-1ff0-4b0d-b504-aed857d27806"
   },
   "outputs": [
    {
     "name": "stdout",
     "output_type": "stream",
     "text": [
      "<class 'pandas.core.frame.DataFrame'>\n",
      "RangeIndex: 413768 entries, 0 to 413767\n",
      "Data columns (total 16 columns):\n",
      " #   Column                        Non-Null Count   Dtype  \n",
      "---  ------                        --------------   -----  \n",
      " 0   Name                          413768 non-null  object \n",
      " 1   Age                           413768 non-null  int64  \n",
      " 2   Marital Status                413768 non-null  object \n",
      " 3   Education Level               413768 non-null  object \n",
      " 4   Number of Children            413768 non-null  int64  \n",
      " 5   Smoking Status                413768 non-null  object \n",
      " 6   Physical Activity Level       413768 non-null  object \n",
      " 7   Employment Status             413768 non-null  object \n",
      " 8   Income                        413768 non-null  float64\n",
      " 9   Alcohol Consumption           413768 non-null  object \n",
      " 10  Dietary Habits                413768 non-null  object \n",
      " 11  Sleep Patterns                413768 non-null  object \n",
      " 12  History of Mental Illness     413768 non-null  object \n",
      " 13  History of Substance Abuse    413768 non-null  object \n",
      " 14  Family History of Depression  413768 non-null  object \n",
      " 15  Chronic Medical Conditions    413768 non-null  object \n",
      "dtypes: float64(1), int64(2), object(13)\n",
      "memory usage: 50.5+ MB\n"
     ]
    },
    {
     "data": {
      "text/plain": [
       "(None,\n",
       "                Name  Age Marital Status    Education Level  \\\n",
       " 0  Christine Barker   31        Married  Bachelor's Degree   \n",
       " 1  Jacqueline Lewis   55        Married        High School   \n",
       " 2    Shannon Church   78        Widowed    Master's Degree   \n",
       " 3    Charles Jordan   58       Divorced    Master's Degree   \n",
       " 4      Michael Rich   18         Single        High School   \n",
       " \n",
       "    Number of Children Smoking Status Physical Activity Level  \\\n",
       " 0                   2     Non-smoker                  Active   \n",
       " 1                   1     Non-smoker               Sedentary   \n",
       " 2                   1     Non-smoker               Sedentary   \n",
       " 3                   3     Non-smoker                Moderate   \n",
       " 4                   0     Non-smoker               Sedentary   \n",
       " \n",
       "   Employment Status     Income Alcohol Consumption Dietary Habits  \\\n",
       " 0        Unemployed   26265.67            Moderate       Moderate   \n",
       " 1          Employed   42710.36                High      Unhealthy   \n",
       " 2          Employed  125332.79                 Low      Unhealthy   \n",
       " 3        Unemployed    9992.78            Moderate       Moderate   \n",
       " 4        Unemployed    8595.08                 Low       Moderate   \n",
       " \n",
       "   Sleep Patterns History of Mental Illness History of Substance Abuse  \\\n",
       " 0           Fair                       Yes                         No   \n",
       " 1           Fair                       Yes                         No   \n",
       " 2           Good                        No                         No   \n",
       " 3           Poor                        No                         No   \n",
       " 4           Fair                       Yes                         No   \n",
       " \n",
       "   Family History of Depression Chronic Medical Conditions  \n",
       " 0                          Yes                        Yes  \n",
       " 1                           No                        Yes  \n",
       " 2                          Yes                         No  \n",
       " 3                           No                         No  \n",
       " 4                          Yes                        Yes  )"
      ]
     },
     "execution_count": 1,
     "metadata": {},
     "output_type": "execute_result"
    }
   ],
   "source": [
    "import pandas as pd\n",
    "\n",
    "file_path = '/content/depression_data.csv'\n",
    "data = pd.read_csv(file_path)\n",
    "\n",
    "data.info(), data.head()\n"
   ]
  },
  {
   "cell_type": "code",
   "execution_count": 2,
   "metadata": {
    "colab": {
     "base_uri": "https://localhost:8080/"
    },
    "id": "Gyx_yBh2PM2h",
    "outputId": "d4d5652a-c4cd-48c3-ba6f-45b1919c9556"
   },
   "outputs": [
    {
     "data": {
      "text/plain": [
       "(413768, 37)"
      ]
     },
     "execution_count": 2,
     "metadata": {},
     "output_type": "execute_result"
    }
   ],
   "source": [
    "from sklearn.preprocessing import StandardScaler, OneHotEncoder\n",
    "from sklearn.compose import ColumnTransformer\n",
    "\n",
    "# Extract categorical and numerical columns\n",
    "numerical_columns = ['Age', 'Number of Children', 'Income']\n",
    "categorical_columns = [col for col in data.columns if col not in numerical_columns + ['Name']]\n",
    "\n",
    "# Apply OneHotEncoding to categorical data and scaling to numerical data\n",
    "preprocessor = ColumnTransformer(\n",
    "    transformers=[\n",
    "        ('num', StandardScaler(), numerical_columns),\n",
    "        ('cat', OneHotEncoder(), categorical_columns)\n",
    "    ]\n",
    ")\n",
    "\n",
    "# Preprocess the data\n",
    "preprocessed_data = preprocessor.fit_transform(data.drop(columns=['Name']))\n",
    "\n",
    "# Shape of the processed data\n",
    "preprocessed_data.shape\n"
   ]
  },
  {
   "cell_type": "code",
   "execution_count": 3,
   "metadata": {
    "colab": {
     "base_uri": "https://localhost:8080/"
    },
    "id": "4bJ5JjyVPTEi",
    "outputId": "543b8b8b-feef-4aa4-982f-627565f8905f"
   },
   "outputs": [
    {
     "name": "stdout",
     "output_type": "stream",
     "text": [
      "Collecting MiniSom\n",
      "  Downloading MiniSom-2.3.3.tar.gz (11 kB)\n",
      "  Preparing metadata (setup.py) ... \u001b[?25l\u001b[?25hdone\n",
      "Building wheels for collected packages: MiniSom\n",
      "  Building wheel for MiniSom (setup.py) ... \u001b[?25l\u001b[?25hdone\n",
      "  Created wheel for MiniSom: filename=MiniSom-2.3.3-py3-none-any.whl size=11706 sha256=ea4a55df2122dfb9eaf6b980b8b7a13c20eea0e577eb4ff5e45ee4de581dcaa5\n",
      "  Stored in directory: /root/.cache/pip/wheels/96/98/a5/52dee3e8ed1dbfc4d77e4da41b6d89dd7ab9ead1b921e766f8\n",
      "Successfully built MiniSom\n",
      "Installing collected packages: MiniSom\n",
      "Successfully installed MiniSom-2.3.3\n"
     ]
    },
    {
     "data": {
      "text/plain": [
       "array([[0.23107546, 0.40318525, 0.41114731, 0.53601875, 0.56983078,\n",
       "        0.60608992, 0.54639745, 0.6731043 , 0.70657819, 0.45477163],\n",
       "       [0.42138216, 0.59658997, 0.77072551, 0.75679312, 0.87597952,\n",
       "        0.91833153, 0.92636222, 0.91719721, 0.95718123, 0.63509584],\n",
       "       [0.391933  , 0.66346286, 0.76317894, 0.88957308, 0.98132619,\n",
       "        0.83932293, 0.76689182, 0.81827764, 0.79549693, 0.45224964],\n",
       "       [0.42048543, 0.65444995, 0.76556004, 0.89831627, 0.91868837,\n",
       "        0.69768224, 0.60068081, 0.63634162, 0.6814458 , 0.52896666],\n",
       "       [0.35787774, 0.49795533, 0.62539395, 0.81446508, 0.71291027,\n",
       "        0.64289407, 0.50404959, 0.51436295, 0.89114456, 0.54247157],\n",
       "       [0.30405364, 0.4808669 , 0.55374   , 0.74946777, 0.61569082,\n",
       "        0.69524359, 0.58843842, 0.69424165, 0.70118314, 0.60527285],\n",
       "       [0.3860634 , 0.52389672, 0.53887231, 0.56770244, 0.634135  ,\n",
       "        0.77350379, 0.9717666 , 0.76838747, 0.80962491, 0.53476873],\n",
       "       [0.53827323, 0.71411096, 0.55616606, 0.55501988, 0.55424557,\n",
       "        0.91995732, 1.        , 0.88511871, 0.72356135, 0.45662739],\n",
       "       [0.48691566, 0.71252152, 0.65826577, 0.64081298, 0.75619442,\n",
       "        0.78919724, 0.99109906, 0.97514176, 0.72057976, 0.41226683],\n",
       "       [0.22268556, 0.43011846, 0.52759113, 0.50881934, 0.57582952,\n",
       "        0.62341133, 0.63196468, 0.55200696, 0.56177723, 0.24488275]])"
      ]
     },
     "execution_count": 3,
     "metadata": {},
     "output_type": "execute_result"
    }
   ],
   "source": [
    "!pip install MiniSom\n",
    "\n",
    "from minisom import MiniSom\n",
    "\n",
    "# Initialize the SOM parameters\n",
    "x, y = 10, 10  # SOM grid size (10x10)\n",
    "input_len = preprocessed_data.shape[1]  # Number of input features\n",
    "som = MiniSom(x=x, y=y, input_len=input_len, sigma=1.0, learning_rate=0.5)\n",
    "\n",
    "# Randomly initialize the weights\n",
    "som.random_weights_init(preprocessed_data)\n",
    "\n",
    "# Train the SOM for 100 iterations\n",
    "som.train_random(preprocessed_data, 100)\n",
    "\n",
    "# Get the distance map (for visualization purposes)\n",
    "distance_map = som.distance_map()\n",
    "\n",
    "distance_map\n"
   ]
  },
  {
   "cell_type": "code",
   "execution_count": 4,
   "metadata": {
    "colab": {
     "base_uri": "https://localhost:8080/",
     "height": 699
    },
    "id": "CrU8i3qvPgUa",
    "outputId": "b42c8899-7bc8-4f2d-c3ff-19dbb6847c4b"
   },
   "outputs": [
    {
     "data": {
      "image/png": "[encoded data removed]",
      "text/plain": [
       "<Figure size 800x800 with 2 Axes>"
      ]
     },
     "metadata": {},
     "output_type": "display_data"
    }
   ],
   "source": [
    "import matplotlib.pyplot as plt\n",
    "import numpy as np\n",
    "\n",
    "# Plot the SOM distance map as a heatmap\n",
    "plt.figure(figsize=(8, 8))\n",
    "plt.pcolor(distance_map, cmap='coolwarm')  # Use a color map for visualization\n",
    "plt.colorbar(label='Distance')\n",
    "plt.title('SOM Distance Map')\n",
    "plt.show()\n"
   ]
  }
 ],
 "metadata": {
  "colab": {
   "provenance": []
  },
  "kernelspec": {
   "display_name": "Python 3 (ipykernel)",
   "language": "python",
   "name": "python3"
  },
  "language_info": {
   "name": "python"
  }
 },
 "nbformat": 4,
 "nbformat_minor": 4
}
